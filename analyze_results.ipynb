{
 "metadata": {
  "name": "",
  "signature": "sha256:7d169ecb2088f3aaafcc3e8583833d963fe716d5149768bbe7a7b05285b0e12c"
 },
 "nbformat": 3,
 "nbformat_minor": 0,
 "worksheets": [
  {
   "cells": [
    {
     "cell_type": "code",
     "collapsed": false,
     "input": [
      "from pandas import read_csv, DataFrame,concat\n",
      "import matplotlib.pyplot as plt\n",
      "import statsmodels.formula.api as sm\n",
      "from statsmodels.stats.anova import anova_lm"
     ],
     "language": "python",
     "metadata": {},
     "outputs": [],
     "prompt_number": 2
    },
    {
     "cell_type": "code",
     "collapsed": false,
     "input": [
      "data=read_csv(\"output_and_def_oct28.csv\")\n",
      "data.index=data['scenario_number']\n",
      "flooded=read_csv(\"people_flooded.csv\")\n",
      "flooded.index=flooded['scenario_number']\n",
      "flooded=flooded.drop('scenario_number',axis=1)"
     ],
     "language": "python",
     "metadata": {},
     "outputs": [],
     "prompt_number": 3
    },
    {
     "cell_type": "code",
     "collapsed": false,
     "input": [
      "flooded.columns"
     ],
     "language": "python",
     "metadata": {},
     "outputs": [
      {
       "metadata": {},
       "output_type": "pyout",
       "prompt_number": 4,
       "text": [
        "Index(['Estimated Population Exposed using GN method', 'share of Total Population using A2'], dtype='object')"
       ]
      }
     ],
     "prompt_number": 4
    },
    {
     "cell_type": "code",
     "collapsed": false,
     "input": [
      "%matplotlib inline"
     ],
     "language": "python",
     "metadata": {},
     "outputs": [],
     "prompt_number": 5
    },
    {
     "cell_type": "code",
     "collapsed": false,
     "input": [
      "varinini1='PARLIAMENT BRIDGE 3(150.0000)'\n",
      "varinini2='ST. SEBASTIAN SOUTH CANAL(1025.1801)'\n",
      "varin1='PARLIAMENT'\n",
      "varin2='SEBASTIAN'\n",
      "data.rename(columns={varinini1: varin1,varinini2: varin2}, inplace=True)\n",
      "subdata=data[[varin1, varin2, 'return_period','wetland_loss','climate_change','runoff','bndconditions','scenario_number']]\n",
      "subdata=concat([subdata,flooded],axis=1)\n",
      "subdata.rename(columns={'Estimated Population Exposed using GN method': 'Pop','share of Total Population using A2'\n",
      "                        : 'share'}, inplace=True)"
     ],
     "language": "python",
     "metadata": {},
     "outputs": [],
     "prompt_number": 6
    },
    {
     "cell_type": "heading",
     "level": 2,
     "metadata": {},
     "source": [
      "predicts damages based on a few points (very bad)"
     ]
    },
    {
     "cell_type": "code",
     "collapsed": false,
     "input": [
      "formula=\"Pop ~ return_period + wetland_loss + climate_change + runoff  + bndconditions\"\n",
      "olsmodel=sm.ols(formula,data=subdata).fit()\n",
      "res=olsmodel.params\n",
      "print(res)"
     ],
     "language": "python",
     "metadata": {},
     "outputs": [
      {
       "output_type": "stream",
       "stream": "stdout",
       "text": [
        "Intercept         14314.065523\n",
        "return_period      2519.736109\n",
        "wetland_loss        550.910533\n",
        "climate_change        0.000000\n",
        "runoff             5725.626209\n",
        "bndconditions     14314.065523\n",
        "dtype: float64\n"
       ]
      }
     ],
     "prompt_number": 7
    },
    {
     "cell_type": "code",
     "collapsed": false,
     "input": [
      "olsmodel.summary()"
     ],
     "language": "python",
     "metadata": {},
     "outputs": [
      {
       "output_type": "stream",
       "stream": "stderr",
       "text": [
        "C:\\Miniconda3\\lib\\site-packages\\scipy\\stats\\stats.py:1205: UserWarning: kurtosistest only valid for n>=20 ... continuing anyway, n=9\n",
        "  int(n))\n"
       ]
      },
      {
       "html": [
        "<table class=\"simpletable\">\n",
        "<caption>OLS Regression Results</caption>\n",
        "<tr>\n",
        "  <th>Dep. Variable:</th>           <td>Pop</td>       <th>  R-squared:         </th> <td>   0.989</td>\n",
        "</tr>\n",
        "<tr>\n",
        "  <th>Model:</th>                   <td>OLS</td>       <th>  Adj. R-squared:    </th> <td>   0.983</td>\n",
        "</tr>\n",
        "<tr>\n",
        "  <th>Method:</th>             <td>Least Squares</td>  <th>  F-statistic:       </th> <td>   172.9</td>\n",
        "</tr>\n",
        "<tr>\n",
        "  <th>Date:</th>             <td>Thu, 30 Oct 2014</td> <th>  Prob (F-statistic):</th> <td>3.25e-06</td>\n",
        "</tr>\n",
        "<tr>\n",
        "  <th>Time:</th>                 <td>14:04:05</td>     <th>  Log-Likelihood:    </th> <td> -99.073</td>\n",
        "</tr>\n",
        "<tr>\n",
        "  <th>No. Observations:</th>      <td>     9</td>      <th>  AIC:               </th> <td>   204.1</td>\n",
        "</tr>\n",
        "<tr>\n",
        "  <th>Df Residuals:</th>          <td>     6</td>      <th>  BIC:               </th> <td>   204.7</td>\n",
        "</tr>\n",
        "<tr>\n",
        "  <th>Df Model:</th>              <td>     3</td>      <th>                     </th>     <td> </td>   \n",
        "</tr>\n",
        "</table>\n",
        "<table class=\"simpletable\">\n",
        "<tr>\n",
        "         <td></td>           <th>coef</th>     <th>std err</th>      <th>t</th>      <th>P>|t|</th> <th>[95.0% Conf. Int.]</th> \n",
        "</tr>\n",
        "<tr>\n",
        "  <th>Intercept</th>      <td> 1.431e+04</td> <td> 5919.811</td> <td>    2.418</td> <td> 0.052</td> <td> -171.190  2.88e+04</td>\n",
        "</tr>\n",
        "<tr>\n",
        "  <th>return_period</th>  <td> 2519.7361</td> <td>  323.915</td> <td>    7.779</td> <td> 0.000</td> <td> 1727.144  3312.328</td>\n",
        "</tr>\n",
        "<tr>\n",
        "  <th>wetland_loss</th>   <td>  550.9105</td> <td>  146.061</td> <td>    3.772</td> <td> 0.009</td> <td>  193.511   908.310</td>\n",
        "</tr>\n",
        "<tr>\n",
        "  <th>climate_change</th> <td>         0</td> <td>        0</td> <td>      nan</td> <td>   nan</td> <td>        0         0</td>\n",
        "</tr>\n",
        "<tr>\n",
        "  <th>runoff</th>         <td> 5725.6262</td> <td> 2367.924</td> <td>    2.418</td> <td> 0.052</td> <td>  -68.476  1.15e+04</td>\n",
        "</tr>\n",
        "<tr>\n",
        "  <th>bndconditions</th>  <td> 1.431e+04</td> <td> 5919.811</td> <td>    2.418</td> <td> 0.052</td> <td> -171.190  2.88e+04</td>\n",
        "</tr>\n",
        "</table>\n",
        "<table class=\"simpletable\">\n",
        "<tr>\n",
        "  <th>Omnibus:</th>       <td> 1.538</td> <th>  Durbin-Watson:     </th> <td>   2.237</td>\n",
        "</tr>\n",
        "<tr>\n",
        "  <th>Prob(Omnibus):</th> <td> 0.464</td> <th>  Jarque-Bera (JB):  </th> <td>   0.803</td>\n",
        "</tr>\n",
        "<tr>\n",
        "  <th>Skew:</th>          <td>-0.310</td> <th>  Prob(JB):          </th> <td>   0.669</td>\n",
        "</tr>\n",
        "<tr>\n",
        "  <th>Kurtosis:</th>      <td> 1.674</td> <th>  Cond. No.          </th> <td>     nan</td>\n",
        "</tr>\n",
        "</table>"
       ],
       "metadata": {},
       "output_type": "pyout",
       "prompt_number": 8,
       "text": [
        "<class 'statsmodels.iolib.summary.Summary'>\n",
        "\"\"\"\n",
        "                            OLS Regression Results                            \n",
        "==============================================================================\n",
        "Dep. Variable:                    Pop   R-squared:                       0.989\n",
        "Model:                            OLS   Adj. R-squared:                  0.983\n",
        "Method:                 Least Squares   F-statistic:                     172.9\n",
        "Date:                Thu, 30 Oct 2014   Prob (F-statistic):           3.25e-06\n",
        "Time:                        14:04:05   Log-Likelihood:                -99.073\n",
        "No. Observations:                   9   AIC:                             204.1\n",
        "Df Residuals:                       6   BIC:                             204.7\n",
        "Df Model:                           3                                         \n",
        "==================================================================================\n",
        "                     coef    std err          t      P>|t|      [95.0% Conf. Int.]\n",
        "----------------------------------------------------------------------------------\n",
        "Intercept       1.431e+04   5919.811      2.418      0.052      -171.190  2.88e+04\n",
        "return_period   2519.7361    323.915      7.779      0.000      1727.144  3312.328\n",
        "wetland_loss     550.9105    146.061      3.772      0.009       193.511   908.310\n",
        "climate_change          0          0        nan        nan             0         0\n",
        "runoff          5725.6262   2367.924      2.418      0.052       -68.476  1.15e+04\n",
        "bndconditions   1.431e+04   5919.811      2.418      0.052      -171.190  2.88e+04\n",
        "==============================================================================\n",
        "Omnibus:                        1.538   Durbin-Watson:                   2.237\n",
        "Prob(Omnibus):                  0.464   Jarque-Bera (JB):                0.803\n",
        "Skew:                          -0.310   Prob(JB):                        0.669\n",
        "Kurtosis:                       1.674   Cond. No.                          nan\n",
        "==============================================================================\n",
        "\n",
        "Warnings:\n",
        "[1] The smallest eigenvalue is -3.67e-15. This might indicate that there are\n",
        "strong multicollinearity problems or that the design matrix is singular.\n",
        "\"\"\""
       ]
      }
     ],
     "prompt_number": 8
    },
    {
     "cell_type": "heading",
     "level": 2,
     "metadata": {},
     "source": [
      "predicts missing water level data points"
     ]
    },
    {
     "cell_type": "code",
     "collapsed": false,
     "input": [
      "formula=varin1+\" ~ return_period + wetland_loss + climate_change + runoff  + bndconditions\"\n",
      "olsmodel=sm.ols(formula,data=subdata).fit()\n",
      "res=olsmodel.params\n",
      "print(res)"
     ],
     "language": "python",
     "metadata": {},
     "outputs": [
      {
       "output_type": "stream",
       "stream": "stdout",
       "text": [
        "Intercept         0.347220\n",
        "return_period     0.032135\n",
        "wetland_loss      0.004746\n",
        "climate_change    0.277020\n",
        "runoff            0.676937\n",
        "bndconditions     0.341792\n",
        "dtype: float64\n"
       ]
      }
     ],
     "prompt_number": 9
    },
    {
     "cell_type": "code",
     "collapsed": false,
     "input": [
      "predictions=olsmodel.predict(subdata)"
     ],
     "language": "python",
     "metadata": {},
     "outputs": [],
     "prompt_number": 10
    },
    {
     "cell_type": "code",
     "collapsed": false,
     "input": [
      "subdata.loc[subdata[varin1].isnull().values,varin1]=predictions[subdata[varin1].isnull().values]"
     ],
     "language": "python",
     "metadata": {},
     "outputs": [],
     "prompt_number": 11
    },
    {
     "cell_type": "heading",
     "level": 2,
     "metadata": {},
     "source": [
      "this is to find the scenar number that corresponds to the flood maps"
     ]
    },
    {
     "cell_type": "code",
     "collapsed": false,
     "input": [
      "compare=[sum(s) for s in subdata[['return_period','wetland_loss','climate_change','runoff','bndconditions']].values==[50,100,0,0.4,1]]\n",
      "select=[s==5 for s in compare]\n",
      "\n",
      "subdata.ix[select,'scenario_number']\n",
      "\n"
     ],
     "language": "python",
     "metadata": {},
     "outputs": [
      {
       "metadata": {},
       "output_type": "pyout",
       "prompt_number": 118,
       "text": [
        "433    434\n",
        "Name: scenario_number, dtype: int64"
       ]
      }
     ],
     "prompt_number": 118
    },
    {
     "cell_type": "heading",
     "level": 2,
     "metadata": {},
     "source": [
      "creates new data with weighted sum instead of return periods"
     ]
    },
    {
     "cell_type": "code",
     "collapsed": false,
     "input": [
      "charac_col=['wetland_loss','climate_change','runoff','bndconditions']\n",
      "annloss=subdata.groupby(charac_col).apply(lambda x:sum(x[varin]*1/x['return_period']))\n",
      "charac=subdata.groupby(charac_col).apply(lambda x:x[charac_col].head(1))\n",
      "scenar=subdata.groupby(charac_col).apply(lambda x:x['scenario_number'].head(1))\n"
     ],
     "language": "python",
     "metadata": {},
     "outputs": [],
     "prompt_number": 58
    },
    {
     "cell_type": "code",
     "collapsed": false,
     "input": [
      "new_data=concat([scenar,charac],axis=1)\n",
      "new_data.index=range(len(new_data))"
     ],
     "language": "python",
     "metadata": {},
     "outputs": [],
     "prompt_number": 69
    },
    {
     "cell_type": "code",
     "collapsed": false,
     "input": [
      "annloss.index=range(len(annloss))\n",
      "new_data['annuallosses']=annloss"
     ],
     "language": "python",
     "metadata": {},
     "outputs": [],
     "prompt_number": 80
    },
    {
     "cell_type": "code",
     "collapsed": false,
     "input": [
      "formula=\"annuallosses ~ wetland_loss + climate_change + runoff  + bndconditions\"\n",
      "olsmodel1=sm.ols(formula,data=new_data).fit()\n",
      "res1=olsmodel1.params\n",
      "table=anova_lm(olsmodel1)\n",
      "table['sum_sq_pc']=table['sum_sq']/table['sum_sq'].sum()\n",
      "table=table.sort(['sum_sq'],ascending=False)"
     ],
     "language": "python",
     "metadata": {},
     "outputs": [],
     "prompt_number": 82
    },
    {
     "cell_type": "code",
     "collapsed": false,
     "input": [
      "table"
     ],
     "language": "python",
     "metadata": {},
     "outputs": [
      {
       "html": [
        "<div style=\"max-height:1000px;max-width:1500px;overflow:auto;\">\n",
        "<table border=\"1\" class=\"dataframe\">\n",
        "  <thead>\n",
        "    <tr style=\"text-align: right;\">\n",
        "      <th></th>\n",
        "      <th>df</th>\n",
        "      <th>sum_sq</th>\n",
        "      <th>mean_sq</th>\n",
        "      <th>F</th>\n",
        "      <th>PR(&gt;F)</th>\n",
        "      <th>sum_sq_pc</th>\n",
        "    </tr>\n",
        "  </thead>\n",
        "  <tbody>\n",
        "    <tr>\n",
        "      <th>climate_change</th>\n",
        "      <td>  1</td>\n",
        "      <td> 1.065626</td>\n",
        "      <td> 1.065626</td>\n",
        "      <td> 1741.348768</td>\n",
        "      <td> 5.023173e-37</td>\n",
        "      <td> 0.484021</td>\n",
        "    </tr>\n",
        "    <tr>\n",
        "      <th>bndconditions</th>\n",
        "      <td>  1</td>\n",
        "      <td> 0.870432</td>\n",
        "      <td> 0.870432</td>\n",
        "      <td> 1422.380030</td>\n",
        "      <td> 3.824769e-35</td>\n",
        "      <td> 0.395361</td>\n",
        "    </tr>\n",
        "    <tr>\n",
        "      <th>wetland_loss</th>\n",
        "      <td>  1</td>\n",
        "      <td> 0.194223</td>\n",
        "      <td> 0.194223</td>\n",
        "      <td>  317.381719</td>\n",
        "      <td> 9.668115e-22</td>\n",
        "      <td> 0.088219</td>\n",
        "    </tr>\n",
        "    <tr>\n",
        "      <th>runoff</th>\n",
        "      <td>  1</td>\n",
        "      <td> 0.044406</td>\n",
        "      <td> 0.044406</td>\n",
        "      <td>   72.564710</td>\n",
        "      <td> 7.355206e-11</td>\n",
        "      <td> 0.020170</td>\n",
        "    </tr>\n",
        "    <tr>\n",
        "      <th>Residual</th>\n",
        "      <td> 44</td>\n",
        "      <td> 0.026926</td>\n",
        "      <td> 0.000612</td>\n",
        "      <td>         NaN</td>\n",
        "      <td>          NaN</td>\n",
        "      <td> 0.012230</td>\n",
        "    </tr>\n",
        "  </tbody>\n",
        "</table>\n",
        "</div>"
       ],
       "metadata": {},
       "output_type": "pyout",
       "prompt_number": 83,
       "text": [
        "                df    sum_sq   mean_sq            F        PR(>F)  sum_sq_pc\n",
        "climate_change   1  1.065626  1.065626  1741.348768  5.023173e-37   0.484021\n",
        "bndconditions    1  0.870432  0.870432  1422.380030  3.824769e-35   0.395361\n",
        "wetland_loss     1  0.194223  0.194223   317.381719  9.668115e-22   0.088219\n",
        "runoff           1  0.044406  0.044406    72.564710  7.355206e-11   0.020170\n",
        "Residual        44  0.026926  0.000612          NaN           NaN   0.012230"
       ]
      }
     ],
     "prompt_number": 83
    },
    {
     "cell_type": "heading",
     "level": 1,
     "metadata": {},
     "source": [
      "performs anova for each return period"
     ]
    },
    {
     "cell_type": "code",
     "collapsed": false,
     "input": [
      "anova_all=DataFrame(columns=['wetland_loss', 'climate_change', 'runoff', 'bndconditions'])\n",
      "anova_all2=DataFrame(columns=['wetland_loss', 'climate_change', 'runoff', 'bndconditions'])\n",
      "\n",
      "for rp in subdata['return_period'].unique():\n",
      "    subsubdata=subdata.ix[subdata['return_period']==rp,:]\n",
      "    formula=varin1+\" ~ wetland_loss + climate_change + runoff  + bndconditions\"\n",
      "    olsmodel=sm.ols(formula,data=subsubdata).fit()\n",
      "    table=anova_lm(olsmodel)\n",
      "    table['sum_sq_pc']=100*table['sum_sq']/table['sum_sq'].sum()\n",
      "    table=table.sort(['sum_sq'],ascending=False)\n",
      "    tablet=table.transpose()\n",
      "    inter=tablet.loc[['sum_sq_pc']]\n",
      "    inter2=tablet.loc[['sum_sq']]\n",
      "    inter.index=[rp]\n",
      "    inter2.index=[rp]\n",
      "    anova_all=anova_all.append(inter)\n",
      "    anova_all2=anova_all2.append(inter2)\n",
      "    print(\"the return period is \"+str(rp))\n",
      "    print(table)"
     ],
     "language": "python",
     "metadata": {},
     "outputs": [
      {
       "output_type": "stream",
       "stream": "stdout",
       "text": [
        "the return period is 2\n",
        "                df    sum_sq   mean_sq           F        PR(>F)  sum_sq_pc\n",
        "climate_change   1  2.556518  2.556518  174.363227  2.685197e-22  31.603239\n",
        "bndconditions    1  2.373559  2.373559  161.884797  2.209573e-21  29.341531\n",
        "wetland_loss     1  1.741900  1.741900  118.803535  8.099315e-18  21.533076\n",
        "Residual        85  1.246272  0.014662         NaN           NaN  15.406203\n",
        "runoff           1  0.171168  0.171168   11.674248  9.743546e-04   2.115951\n",
        "the return period is 5\n",
        "                df    sum_sq   mean_sq            F        PR(>F)  sum_sq_pc\n",
        "climate_change   1  3.623710  3.623710  1520.162465  5.166972e-56  42.239209\n",
        "bndconditions    1  2.466246  2.466246  1034.601121  2.332396e-49  28.747410\n",
        "wetland_loss     1  2.104689  2.104689   882.926195  1.141411e-46  24.532973\n",
        "Residual        85  0.202620  0.002384          NaN           NaN   2.361809\n",
        "runoff           1  0.181755  0.181755    76.247070  1.884031e-13   2.118600\n",
        "the return period is 10"
       ]
      },
      {
       "output_type": "stream",
       "stream": "stdout",
       "text": [
        "\n",
        "                df    sum_sq   mean_sq           F        PR(>F)  sum_sq_pc\n",
        "climate_change   1  4.369398  4.369398  542.634578  1.160211e-38  44.301438\n",
        "bndconditions    1  2.642842  2.642842  328.213967  6.274020e-31  26.795843\n",
        "wetland_loss     1  1.882064  1.882064  233.733067  4.037953e-26  19.082291\n",
        "Residual        85  0.684436  0.008052         NaN           NaN   6.939518\n",
        "runoff           1  0.284141  0.284141   35.287382  6.052027e-08   2.880911\n",
        "the return period is 25\n",
        "                df    sum_sq   mean_sq           F        PR(>F)  sum_sq_pc\n",
        "climate_change   1  4.892707  4.892707  647.488421  1.615685e-41  50.415888\n",
        "bndconditions    1  2.329911  2.329911  308.334490  5.133052e-30  24.008085\n",
        "wetland_loss     1  1.536735  1.536735  203.367561  2.899381e-24  15.834964\n",
        "Residual        85  0.642297  0.007556         NaN           NaN   6.618420\n",
        "runoff           1  0.303043  0.303043   40.103928  1.094635e-08   3.122643\n",
        "the return period is 50"
       ]
      },
      {
       "output_type": "stream",
       "stream": "stdout",
       "text": [
        "\n",
        "                df    sum_sq   mean_sq           F        PR(>F)  sum_sq_pc\n",
        "wetland_loss     1  8.953462  8.953462  730.455577  1.679070e-43  39.915932\n",
        "climate_change   1  8.550784  8.550784  697.603694  9.662456e-43  38.120732\n",
        "bndconditions    1  3.397230  3.397230  277.158204  1.736385e-28  15.145381\n",
        "Residual        85  1.041876  0.012257         NaN           NaN   4.644847\n",
        "runoff           1  0.487446  0.487446   39.767558  1.230629e-08   2.173108\n"
       ]
      }
     ],
     "prompt_number": 26
    },
    {
     "cell_type": "code",
     "collapsed": false,
     "input": [
      "anova_all.columns=['Wetland loss','Run-off','Climate Change','Boundary Conditions','Residual']\n",
      "f1 = plt.figure()\n",
      "anova_all.plot(ylim=(0,100),sort_columns=False,kind='area',colormap='cool',ax=f1.gca())\n",
      "ax=f1.gca()\n",
      "plt.xticks(anova_all.index.astype(int),list(anova_all.index.astype(int).astype(str)))\n",
      "handles, labels = ax.get_legend_handles_labels()\n",
      "plt.legend(handles[::-1],labels[::-1],loc='center left', bbox_to_anchor=(1.0, 0.5))\n",
      "plt.ylabel('% of water level variance explained')\n",
      "plt.xlabel('Return period')"
     ],
     "language": "python",
     "metadata": {},
     "outputs": [
      {
       "metadata": {},
       "output_type": "pyout",
       "prompt_number": 37,
       "text": [
        "<matplotlib.text.Text at 0xc3baa58>"
       ]
      },
      {
       "metadata": {},
       "output_type": "display_data",
       "png": "[encoded data removed]",
       "text": [
        "<matplotlib.figure.Figure at 0xc1d0710>"
       ]
      }
     ],
     "prompt_number": 37
    },
    {
     "cell_type": "code",
     "collapsed": false,
     "input": [
      "anova_all2.columns=['Wetland loss','Run-off','Climate Change','Boundary Conditions','Residual']\n",
      "f1 = plt.figure()\n",
      "anova_all2.plot(kind='area',colormap='cool',ax=f1.gca())\n",
      "ax=f1.gca()\n",
      "plt.xticks(anova_all2.index.astype(int),list(anova_all2.index.astype(int).astype(str)))\n",
      "handles, labels = ax.get_legend_handles_labels()\n",
      "plt.legend(handles[::-1],labels[::-1],loc='center left', bbox_to_anchor=(1.0, 0.5))\n",
      "plt.ylabel('Water level')\n",
      "plt.xlabel('Return period')"
     ],
     "language": "python",
     "metadata": {},
     "outputs": [
      {
       "metadata": {},
       "output_type": "pyout",
       "prompt_number": 38,
       "text": [
        "<matplotlib.text.Text at 0xc5933c8>"
       ]
      },
      {
       "metadata": {},
       "output_type": "display_data",
       "png": "[encoded data removed]",
       "text": [
        "<matplotlib.figure.Figure at 0xc45ec18>"
       ]
      }
     ],
     "prompt_number": 38
    },
    {
     "cell_type": "heading",
     "level": 2,
     "metadata": {},
     "source": [
      "Calculates the impact of 100% wetland loss for each set of other conditions"
     ]
    },
    {
     "cell_type": "code",
     "collapsed": false,
     "input": [
      "def diffwet(x):\n",
      "    sel1=x['wetland_loss']==100\n",
      "    sel2=x['wetland_loss']==0\n",
      "    out=x.ix[sel1,varin1].values-x.ix[sel2,varin1].values\n",
      "    return out[0]\n",
      "\n",
      "charac_col=['return_period','climate_change','runoff','bndconditions']\n",
      "wetlandimpact=subdata.groupby(charac_col).apply(lambda x:diffwet(x))\n",
      "charac=subdata.groupby(charac_col).apply(lambda x:x[charac_col].head(1))\n",
      "scenar=subdata.groupby(charac_col).apply(lambda x:x['scenario_number'].head(1))"
     ],
     "language": "python",
     "metadata": {},
     "outputs": [],
     "prompt_number": 57
    },
    {
     "cell_type": "code",
     "collapsed": false,
     "input": [
      "new_data=concat([scenar,charac],axis=1)\n",
      "new_data.index=range(len(new_data))\n",
      "wetlandimpact.index=range(len(wetlandimpact))\n",
      "new_data['wetlandimpact']=wetlandimpact"
     ],
     "language": "python",
     "metadata": {},
     "outputs": [],
     "prompt_number": 60
    },
    {
     "cell_type": "code",
     "collapsed": false,
     "input": [
      "new_data['wetlandimpact'].describe()"
     ],
     "language": "python",
     "metadata": {},
     "outputs": [
      {
       "metadata": {},
       "output_type": "pyout",
       "prompt_number": 61,
       "text": [
        "count    90.000000\n",
        "mean      0.473587\n",
        "std       0.243627\n",
        "min       0.142600\n",
        "25%       0.291239\n",
        "50%       0.405250\n",
        "75%       0.582475\n",
        "max       1.210100\n",
        "dtype: float64"
       ]
      }
     ],
     "prompt_number": 61
    },
    {
     "cell_type": "code",
     "collapsed": false,
     "input": [
      "formula=\"wetlandimpact ~ return_period + climate_change + runoff  + bndconditions\"\n",
      "olsmodel1=sm.ols(formula,data=new_data).fit()\n",
      "res1=olsmodel1.params\n",
      "table=anova_lm(olsmodel1)\n",
      "table['sum_sq_pc']=table['sum_sq']/table['sum_sq'].sum()\n",
      "table=table.sort(['sum_sq'],ascending=False)\n",
      "print(table)"
     ],
     "language": "python",
     "metadata": {},
     "outputs": [
      {
       "output_type": "stream",
       "stream": "stdout",
       "text": [
        "                df    sum_sq   mean_sq           F        PR(>F)  sum_sq_pc\n",
        "return_period    1  2.958212  2.958212  145.471340  4.188779e-20   0.559999\n",
        "Residual        85  1.728505  0.020335         NaN           NaN   0.327212\n",
        "bndconditions    1  0.448294  0.448294   22.045035  1.012274e-05   0.084863\n",
        "climate_change   1  0.118080  0.118080    5.806610  1.812414e-02   0.022353\n",
        "runoff           1  0.029440  0.029440    1.447722  2.322344e-01   0.005573\n"
       ]
      }
     ],
     "prompt_number": 62
    },
    {
     "cell_type": "heading",
     "level": 4,
     "metadata": {},
     "source": [
      "look at max impact of wetlands for each return period"
     ]
    },
    {
     "cell_type": "code",
     "collapsed": false,
     "input": [
      "for rp in subdata['return_period'].unique():\n",
      "    subsubdata=new_data.ix[new_data['return_period']==rp,:]\n",
      "    plt.plot([rp]*len(subsubdata),subsubdata['wetlandimpact'],marker='o',linestyle='None')\n",
      "    id=subsubdata['wetlandimpact']==subsubdata['wetlandimpact'].max()\n",
      "    print(subsubdata.loc[id,['climate_change','runoff','bndconditions','scenario_number','return_period']])\n",
      "\n",
      "print(\"--- for CMC ---\")\n",
      "for rp in subdata['return_period'].unique():\n",
      "    subsubdata=new_data.ix[new_data['return_period']==rp,:]\n",
      "    id2=(subsubdata['climate_change']==0)&(subsubdata['runoff']==0.6)&(subsubdata['bndconditions']==1)\n",
      "    plt.plot(rp,subsubdata.loc[id2,'wetlandimpact'],marker='x',linestyle='None',color='black',markersize=12)\n",
      "    print(subsubdata.loc[id2,['climate_change','runoff','bndconditions','scenario_number','return_period']])"
     ],
     "language": "python",
     "metadata": {},
     "outputs": [
      {
       "output_type": "stream",
       "stream": "stdout",
       "text": [
        "    climate_change  runoff  bndconditions  scenario_number  return_period\n",
        "17               2     0.6              1               16              2\n",
        "    climate_change  runoff  bndconditions  scenario_number  return_period\n",
        "31               2     0.4              1              104              5\n",
        "    climate_change  runoff  bndconditions  scenario_number  return_period\n",
        "49               2     0.4              1              194             10\n",
        "    climate_change  runoff  bndconditions  scenario_number  return_period\n",
        "59               0     0.6              1              274             25"
       ]
      },
      {
       "output_type": "stream",
       "stream": "stdout",
       "text": [
        "\n",
        "    climate_change  runoff  bndconditions  scenario_number  return_period\n",
        "89               2     0.6              1              376             50\n",
        "--- for CMC ---\n",
        "   climate_change  runoff  bndconditions  scenario_number  return_period\n",
        "5               0     0.6              1                4              2\n",
        "    climate_change  runoff  bndconditions  scenario_number  return_period\n",
        "23               0     0.6              1               94              5\n",
        "    climate_change  runoff  bndconditions  scenario_number  return_period\n",
        "41               0     0.6              1              184             10"
       ]
      },
      {
       "output_type": "stream",
       "stream": "stdout",
       "text": [
        "\n",
        "    climate_change  runoff  bndconditions  scenario_number  return_period\n",
        "59               0     0.6              1              274             25\n",
        "    climate_change  runoff  bndconditions  scenario_number  return_period\n",
        "77               0     0.6              1              364             50\n"
       ]
      },
      {
       "metadata": {},
       "output_type": "display_data",
       "png": "[encoded data removed]",
       "text": [
        "<matplotlib.figure.Figure at 0xce03cf8>"
       ]
      }
     ],
     "prompt_number": 84
    },
    {
     "cell_type": "code",
     "collapsed": false,
     "input": [
      "color_list=[\"#330000\",\"#336600\",\"#339900\",\"#33CC00\",\"#33FF00\"]\n",
      "i=0\n",
      "\n",
      "for wl in subdata['wetland_loss'].unique():\n",
      "    select=subdata['wetland_loss']==wl\n",
      "    plt.plot(subdata.ix[select,varin1],subdata.ix[select,varin2],marker='o',linestyle='None',color=color_list[i])\n",
      "    i+=1"
     ],
     "language": "python",
     "metadata": {},
     "outputs": [
      {
       "metadata": {},
       "output_type": "display_data",
       "png": "[encoded data removed]",
       "text": [
        "<matplotlib.figure.Figure at 0x8fb62e8>"
       ]
      }
     ],
     "prompt_number": 27
    },
    {
     "cell_type": "code",
     "collapsed": false,
     "input": [
      "olsmodel.summary()"
     ],
     "language": "python",
     "metadata": {},
     "outputs": [
      {
       "html": [
        "<table class=\"simpletable\">\n",
        "<caption>OLS Regression Results</caption>\n",
        "<tr>\n",
        "  <th>Dep. Variable:</th>       <td>PARLIAMENT</td>    <th>  R-squared:         </th> <td>   0.922</td> \n",
        "</tr>\n",
        "<tr>\n",
        "  <th>Model:</th>                   <td>OLS</td>       <th>  Adj. R-squared:    </th> <td>   0.921</td> \n",
        "</tr>\n",
        "<tr>\n",
        "  <th>Method:</th>             <td>Least Squares</td>  <th>  F-statistic:       </th> <td>   765.8</td> \n",
        "</tr>\n",
        "<tr>\n",
        "  <th>Date:</th>             <td>Tue, 28 Oct 2014</td> <th>  Prob (F-statistic):</th> <td>2.40e-176</td>\n",
        "</tr>\n",
        "<tr>\n",
        "  <th>Time:</th>                 <td>15:18:58</td>     <th>  Log-Likelihood:    </th> <td>  69.457</td> \n",
        "</tr>\n",
        "<tr>\n",
        "  <th>No. Observations:</th>      <td>   328</td>      <th>  AIC:               </th> <td>  -126.9</td> \n",
        "</tr>\n",
        "<tr>\n",
        "  <th>Df Residuals:</th>          <td>   322</td>      <th>  BIC:               </th> <td>  -104.2</td> \n",
        "</tr>\n",
        "<tr>\n",
        "  <th>Df Model:</th>              <td>     5</td>      <th>                     </th>     <td> </td>    \n",
        "</tr>\n",
        "</table>\n",
        "<table class=\"simpletable\">\n",
        "<tr>\n",
        "         <td></td>           <th>coef</th>     <th>std err</th>      <th>t</th>      <th>P>|t|</th> <th>[95.0% Conf. Int.]</th> \n",
        "</tr>\n",
        "<tr>\n",
        "  <th>Intercept</th>      <td>    0.3472</td> <td>    0.072</td> <td>    4.836</td> <td> 0.000</td> <td>    0.206     0.488</td>\n",
        "</tr>\n",
        "<tr>\n",
        "  <th>return_period</th>  <td>    0.0321</td> <td>    0.001</td> <td>   53.648</td> <td> 0.000</td> <td>    0.031     0.033</td>\n",
        "</tr>\n",
        "<tr>\n",
        "  <th>wetland_loss</th>   <td>    0.0047</td> <td>    0.000</td> <td>   16.320</td> <td> 0.000</td> <td>    0.004     0.005</td>\n",
        "</tr>\n",
        "<tr>\n",
        "  <th>climate_change</th> <td>    0.2770</td> <td>    0.013</td> <td>   20.649</td> <td> 0.000</td> <td>    0.251     0.303</td>\n",
        "</tr>\n",
        "<tr>\n",
        "  <th>runoff</th>         <td>    0.6769</td> <td>    0.134</td> <td>    5.068</td> <td> 0.000</td> <td>    0.414     0.940</td>\n",
        "</tr>\n",
        "<tr>\n",
        "  <th>bndconditions</th>  <td>    0.3418</td> <td>    0.022</td> <td>   15.658</td> <td> 0.000</td> <td>    0.299     0.385</td>\n",
        "</tr>\n",
        "</table>\n",
        "<table class=\"simpletable\">\n",
        "<tr>\n",
        "  <th>Omnibus:</th>       <td>10.567</td> <th>  Durbin-Watson:     </th> <td>   0.259</td>\n",
        "</tr>\n",
        "<tr>\n",
        "  <th>Prob(Omnibus):</th> <td> 0.005</td> <th>  Jarque-Bera (JB):  </th> <td>   5.975</td>\n",
        "</tr>\n",
        "<tr>\n",
        "  <th>Skew:</th>          <td>-0.133</td> <th>  Prob(JB):          </th> <td>  0.0504</td>\n",
        "</tr>\n",
        "<tr>\n",
        "  <th>Kurtosis:</th>      <td> 2.395</td> <th>  Cond. No.          </th> <td>    737.</td>\n",
        "</tr>\n",
        "</table>"
       ],
       "metadata": {},
       "output_type": "pyout",
       "prompt_number": 22,
       "text": [
        "<class 'statsmodels.iolib.summary.Summary'>\n",
        "\"\"\"\n",
        "                            OLS Regression Results                            \n",
        "==============================================================================\n",
        "Dep. Variable:             PARLIAMENT   R-squared:                       0.922\n",
        "Model:                            OLS   Adj. R-squared:                  0.921\n",
        "Method:                 Least Squares   F-statistic:                     765.8\n",
        "Date:                Tue, 28 Oct 2014   Prob (F-statistic):          2.40e-176\n",
        "Time:                        15:18:58   Log-Likelihood:                 69.457\n",
        "No. Observations:                 328   AIC:                            -126.9\n",
        "Df Residuals:                     322   BIC:                            -104.2\n",
        "Df Model:                           5                                         \n",
        "==================================================================================\n",
        "                     coef    std err          t      P>|t|      [95.0% Conf. Int.]\n",
        "----------------------------------------------------------------------------------\n",
        "Intercept          0.3472      0.072      4.836      0.000         0.206     0.488\n",
        "return_period      0.0321      0.001     53.648      0.000         0.031     0.033\n",
        "wetland_loss       0.0047      0.000     16.320      0.000         0.004     0.005\n",
        "climate_change     0.2770      0.013     20.649      0.000         0.251     0.303\n",
        "runoff             0.6769      0.134      5.068      0.000         0.414     0.940\n",
        "bndconditions      0.3418      0.022     15.658      0.000         0.299     0.385\n",
        "==============================================================================\n",
        "Omnibus:                       10.567   Durbin-Watson:                   0.259\n",
        "Prob(Omnibus):                  0.005   Jarque-Bera (JB):                5.975\n",
        "Skew:                          -0.133   Prob(JB):                       0.0504\n",
        "Kurtosis:                       2.395   Cond. No.                         737.\n",
        "==============================================================================\n",
        "\"\"\""
       ]
      }
     ],
     "prompt_number": 22
    },
    {
     "cell_type": "code",
     "collapsed": false,
     "input": [
      "table=anova_lm(olsmodel)\n",
      "table['sum_sq_pc']=table['sum_sq']/table['sum_sq'].sum()\n",
      "table=table.sort(['sum_sq'],ascending=False)"
     ],
     "language": "python",
     "metadata": {},
     "outputs": [],
     "prompt_number": 32
    },
    {
     "cell_type": "code",
     "collapsed": false,
     "input": [
      "table"
     ],
     "language": "python",
     "metadata": {},
     "outputs": [
      {
       "html": [
        "<div style=\"max-height:1000px;max-width:1500px;overflow:auto;\">\n",
        "<table border=\"1\" class=\"dataframe\">\n",
        "  <thead>\n",
        "    <tr style=\"text-align: right;\">\n",
        "      <th></th>\n",
        "      <th>df</th>\n",
        "      <th>sum_sq</th>\n",
        "      <th>mean_sq</th>\n",
        "      <th>F</th>\n",
        "      <th>PR(&gt;F)</th>\n",
        "      <th>sum_sq_pc</th>\n",
        "    </tr>\n",
        "  </thead>\n",
        "  <tbody>\n",
        "    <tr>\n",
        "      <th>return_period</th>\n",
        "      <td>   1</td>\n",
        "      <td> 113.313883</td>\n",
        "      <td> 113.313883</td>\n",
        "      <td> 2901.822227</td>\n",
        "      <td> 3.867471e-163</td>\n",
        "      <td> 0.699047</td>\n",
        "    </tr>\n",
        "    <tr>\n",
        "      <th>climate_change</th>\n",
        "      <td>   1</td>\n",
        "      <td>  16.778851</td>\n",
        "      <td>  16.778851</td>\n",
        "      <td>  429.684698</td>\n",
        "      <td>  3.098598e-61</td>\n",
        "      <td> 0.103511</td>\n",
        "    </tr>\n",
        "    <tr>\n",
        "      <th>Residual</th>\n",
        "      <td> 322</td>\n",
        "      <td>  12.573848</td>\n",
        "      <td>   0.039049</td>\n",
        "      <td>         NaN</td>\n",
        "      <td>           NaN</td>\n",
        "      <td> 0.077570</td>\n",
        "    </tr>\n",
        "    <tr>\n",
        "      <th>bndconditions</th>\n",
        "      <td>   1</td>\n",
        "      <td>   9.574217</td>\n",
        "      <td>   9.574217</td>\n",
        "      <td>  245.183334</td>\n",
        "      <td>  1.751323e-41</td>\n",
        "      <td> 0.059064</td>\n",
        "    </tr>\n",
        "    <tr>\n",
        "      <th>wetland_loss</th>\n",
        "      <td>   1</td>\n",
        "      <td>   8.965722</td>\n",
        "      <td>   8.965722</td>\n",
        "      <td>  229.600568</td>\n",
        "      <td>  1.582554e-39</td>\n",
        "      <td> 0.055311</td>\n",
        "    </tr>\n",
        "    <tr>\n",
        "      <th>runoff</th>\n",
        "      <td>   1</td>\n",
        "      <td>   0.891231</td>\n",
        "      <td>   0.891231</td>\n",
        "      <td>   22.823273</td>\n",
        "      <td>  2.702887e-06</td>\n",
        "      <td> 0.005498</td>\n",
        "    </tr>\n",
        "  </tbody>\n",
        "</table>\n",
        "</div>"
       ],
       "metadata": {},
       "output_type": "pyout",
       "prompt_number": 33,
       "text": [
        "                 df      sum_sq     mean_sq            F         PR(>F)  \\\n",
        "return_period     1  113.313883  113.313883  2901.822227  3.867471e-163   \n",
        "climate_change    1   16.778851   16.778851   429.684698   3.098598e-61   \n",
        "Residual        322   12.573848    0.039049          NaN            NaN   \n",
        "bndconditions     1    9.574217    9.574217   245.183334   1.751323e-41   \n",
        "wetland_loss      1    8.965722    8.965722   229.600568   1.582554e-39   \n",
        "runoff            1    0.891231    0.891231    22.823273   2.702887e-06   \n",
        "\n",
        "                sum_sq_pc  \n",
        "return_period    0.699047  \n",
        "climate_change   0.103511  \n",
        "Residual         0.077570  \n",
        "bndconditions    0.059064  \n",
        "wetland_loss     0.055311  \n",
        "runoff           0.005498  "
       ]
      }
     ],
     "prompt_number": 33
    },
    {
     "cell_type": "code",
     "collapsed": false,
     "input": [],
     "language": "python",
     "metadata": {},
     "outputs": []
    }
   ],
   "metadata": {}
  }
 ]
}